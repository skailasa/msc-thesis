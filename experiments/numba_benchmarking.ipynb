{
 "cells": [
  {
   "cell_type": "markdown",
   "metadata": {},
   "source": [
    "#### Numba Benchmarking With Numpy Containers and Insersion Sort"
   ]
  },
  {
   "cell_type": "code",
   "execution_count": 1,
   "metadata": {},
   "outputs": [],
   "source": [
    "import time\n",
    "import random\n",
    "\n",
    "import numba\n",
    "import numpy as np"
   ]
  },
  {
   "cell_type": "code",
   "execution_count": 2,
   "metadata": {},
   "outputs": [],
   "source": [
    "nloops = 10\n",
    "npoints = 10000"
   ]
  },
  {
   "cell_type": "code",
   "execution_count": 3,
   "metadata": {},
   "outputs": [],
   "source": [
    "def generate_data(n_points):\n",
    "    arr = []\n",
    "\n",
    "    for i in range(n_points):\n",
    "        num = random.randint(0, n_points)\n",
    "        arr.append(num)\n",
    "\n",
    "    arr = np.array(arr)\n",
    "    return arr"
   ]
  },
  {
   "cell_type": "code",
   "execution_count": 4,
   "metadata": {},
   "outputs": [],
   "source": [
    "def nojit_sort(a):\n",
    "\n",
    "    for i in range(1, len(a)):\n",
    "\n",
    "        key = a[i]\n",
    "        j = i-1\n",
    "\n",
    "        while j >= 0 and a[j] > key:\n",
    "\n",
    "            a[j+1] = a[j]\n",
    "            j -= 1\n",
    "\n",
    "        a[j+1] = key\n",
    "\n",
    "    return a\n",
    "\n",
    "\n",
    "@numba.jit(nopython=True)\n",
    "def jit_sort(a):\n",
    "    for i in range(1, len(a)):\n",
    "\n",
    "        key = a[i]\n",
    "        j = i-1\n",
    "\n",
    "        while j >= 0 and a[j] > key:\n",
    "\n",
    "            a[j+1] = a[j]\n",
    "            j -= 1\n",
    "\n",
    "        a[j+1] = key\n",
    "    \n",
    "    return a"
   ]
  },
  {
   "cell_type": "code",
   "execution_count": 5,
   "metadata": {},
   "outputs": [
    {
     "name": "stdout",
     "output_type": "stream",
     "text": [
      "[1221 5520 8069 ... 3334 2655 3762]\n"
     ]
    }
   ],
   "source": [
    "num_list = generate_data(npoints)\n",
    "print(num_list)"
   ]
  },
  {
   "cell_type": "code",
   "execution_count": 6,
   "metadata": {},
   "outputs": [
    {
     "name": "stdout",
     "output_type": "stream",
     "text": [
      "Average Runtime 0.8965795993804931\n"
     ]
    }
   ],
   "source": [
    "start = time.time()\n",
    "for i in range(nloops):\n",
    "    result = nojit_sort(num_list)\n",
    "\n",
    "runtime = time.time() - start\n",
    "average_runtime_nojit = runtime / nloops\n",
    "\n",
    "print(f\"Average Runtime {average_runtime_nojit}\")"
   ]
  },
  {
   "cell_type": "code",
   "execution_count": 7,
   "metadata": {},
   "outputs": [],
   "source": [
    "num_list = generate_data(npoints)"
   ]
  },
  {
   "cell_type": "code",
   "execution_count": 8,
   "metadata": {},
   "outputs": [
    {
     "name": "stdout",
     "output_type": "stream",
     "text": [
      "[9833 3656 5981 ... 3624 4328 6473]\n"
     ]
    }
   ],
   "source": [
    "print(num_list)"
   ]
  },
  {
   "cell_type": "code",
   "execution_count": 9,
   "metadata": {},
   "outputs": [
    {
     "name": "stdout",
     "output_type": "stream",
     "text": [
      "Average Runtime 0.020224499702453613\n"
     ]
    }
   ],
   "source": [
    "start = time.time()\n",
    "for i in range(nloops):\n",
    "    result = jit_sort(num_list)\n",
    "\n",
    "runtime = time.time() - start\n",
    "average_runtime_jit = runtime / nloops\n",
    "\n",
    "print(f\"Average Runtime {average_runtime_jit}\")\n"
   ]
  },
  {
   "cell_type": "code",
   "execution_count": 10,
   "metadata": {},
   "outputs": [
    {
     "name": "stdout",
     "output_type": "stream",
     "text": [
      "Numba results in a 44.33136110020666X speedup\n"
     ]
    }
   ],
   "source": [
    "print(f\"Numba results in a {average_runtime_nojit/average_runtime_jit}X speedup\")"
   ]
  },
  {
   "cell_type": "code",
   "execution_count": null,
   "metadata": {},
   "outputs": [],
   "source": []
  }
 ],
 "metadata": {
  "kernelspec": {
   "display_name": "Python 3",
   "language": "python",
   "name": "python3"
  },
  "language_info": {
   "codemirror_mode": {
    "name": "ipython",
    "version": 3
   },
   "file_extension": ".py",
   "mimetype": "text/x-python",
   "name": "python",
   "nbconvert_exporter": "python",
   "pygments_lexer": "ipython3",
   "version": "3.7.5"
  }
 },
 "nbformat": 4,
 "nbformat_minor": 2
}
