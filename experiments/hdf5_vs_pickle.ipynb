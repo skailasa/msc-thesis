{
 "cells": [
  {
   "cell_type": "markdown",
   "metadata": {},
   "source": [
    "# HDF5 Vs Pickle"
   ]
  },
  {
   "cell_type": "code",
   "execution_count": 17,
   "metadata": {},
   "outputs": [],
   "source": [
    "import pathlib\n",
    "import time\n",
    "\n",
    "import numpy as np\n",
    "import pickle\n",
    "import h5py"
   ]
  },
  {
   "cell_type": "code",
   "execution_count": 2,
   "metadata": {},
   "outputs": [],
   "source": [
    "xdim = 10000\n",
    "ydim = 20000\n",
    "test_data = np.ones(shape=(xdim, ydim), dtype=np.float64)"
   ]
  },
  {
   "cell_type": "code",
   "execution_count": 11,
   "metadata": {},
   "outputs": [],
   "source": [
    "gb = 8589934592 # bits"
   ]
  },
  {
   "cell_type": "code",
   "execution_count": 14,
   "metadata": {},
   "outputs": [],
   "source": [
    "expected_memory = xdim * ydim * 64\n",
    "expected_memory = expected_memory * 1/gb"
   ]
  },
  {
   "cell_type": "code",
   "execution_count": 16,
   "metadata": {},
   "outputs": [
    {
     "data": {
      "text/plain": [
       "1.4901161193847656"
      ]
     },
     "execution_count": 16,
     "metadata": {},
     "output_type": "execute_result"
    }
   ],
   "source": [
    "expected_memory # in GB"
   ]
  },
  {
   "cell_type": "markdown",
   "metadata": {},
   "source": [
    "#### Dump to pickle"
   ]
  },
  {
   "cell_type": "code",
   "execution_count": 59,
   "metadata": {},
   "outputs": [
    {
     "name": "stdout",
     "output_type": "stream",
     "text": [
      "2.77 s ± 772 ms per loop (mean ± std. dev. of 5 runs, 1 loop each)\n"
     ]
    }
   ],
   "source": [
    "%%timeit -n 1 -r 5\n",
    "\n",
    "with open('test_pickle.pkl', 'wb') as f:\n",
    "    pickle.dump(test_data, f)"
   ]
  },
  {
   "cell_type": "markdown",
   "metadata": {},
   "source": [
    "#### Dump to hdf5"
   ]
  },
  {
   "cell_type": "code",
   "execution_count": 60,
   "metadata": {},
   "outputs": [
    {
     "name": "stdout",
     "output_type": "stream",
     "text": [
      "1.12 s ± 156 ms per loop (mean ± std. dev. of 5 runs, 1 loop each)\n"
     ]
    }
   ],
   "source": [
    "%%timeit -n 1 -r 5\n",
    "\n",
    "with h5py.File('test_hdf5.hdf5', 'w') as f:\n",
    "    f.create_dataset('test', data=test_data)"
   ]
  },
  {
   "cell_type": "markdown",
   "metadata": {},
   "source": [
    "#### Test load times"
   ]
  },
  {
   "cell_type": "code",
   "execution_count": 5,
   "metadata": {},
   "outputs": [],
   "source": [
    "def load_pickle(filename, dirpath):\n",
    "    \"\"\"\n",
    "    Load pickled object.\n",
    "    Parameters:\n",
    "    -----------\n",
    "    filename : str \n",
    "    dirpath : str\n",
    "    Returns:\n",
    "    --------\n",
    "    object\n",
    "    \"\"\"\n",
    "\n",
    "    dirpath = pathlib.Path(dirpath)\n",
    "    filepath = dirpath / f'{filename}.pkl'\n",
    "\n",
    "    with open(filepath, 'rb') as f:\n",
    "        obj = pickle.load(f)\n",
    "\n",
    "    return obj\n",
    "\n",
    "\n",
    "def load_hdf5(filename, dirpath):\n",
    "    \"\"\"\n",
    "    Load HDF5 file from disk.\n",
    "    Parameters:\n",
    "    -----------\n",
    "    filename : str\n",
    "    dirpath : str\n",
    "    Returns:\n",
    "    --------\n",
    "    h5py.File\n",
    "    \"\"\"\n",
    "    dirpath = pathlib.Path(dirpath)\n",
    "    filepath = dirpath / f'{filename}.hdf5'\n",
    "\n",
    "    return h5py.File(filepath, 'r')\n"
   ]
  },
  {
   "cell_type": "code",
   "execution_count": 22,
   "metadata": {},
   "outputs": [],
   "source": [
    "pickle_times = []\n",
    "\n",
    "for i in range(7):\n",
    "    start = time.time()\n",
    "    pickle_loaded = load_pickle('test_pickle', '')\n",
    "    end = time.time()\n",
    "    pickle_times.append(end-start)"
   ]
  },
  {
   "cell_type": "code",
   "execution_count": 24,
   "metadata": {},
   "outputs": [],
   "source": [
    "hdf5_times = []\n",
    "\n",
    "for i in range(5):\n",
    "    start = time.time()\n",
    "    hdf5_loaded = load_hdf5('test_hdf5', '')\n",
    "    end = time.time()\n",
    "    hdf5_times.append(end-start)"
   ]
  },
  {
   "cell_type": "code",
   "execution_count": 43,
   "metadata": {},
   "outputs": [],
   "source": [
    "hdf5_times = np.array(hdf5_times)\n",
    "pickle_times = np.array(pickle_times)"
   ]
  },
  {
   "cell_type": "code",
   "execution_count": 46,
   "metadata": {},
   "outputs": [],
   "source": [
    "mean_pickle_time = pickle_times.mean()\n",
    "std_dev_pickle_time = pickle_times.std()"
   ]
  },
  {
   "cell_type": "code",
   "execution_count": 48,
   "metadata": {},
   "outputs": [
    {
     "name": "stdout",
     "output_type": "stream",
     "text": [
      "3.1744718074798586 \\pm 0.3949027934039339\n"
     ]
    }
   ],
   "source": [
    "print(f\"{mean_pickle_time} \\pm {std_dev_pickle_time}\")"
   ]
  },
  {
   "cell_type": "code",
   "execution_count": 49,
   "metadata": {},
   "outputs": [],
   "source": [
    "mean_hdf5_time = hdf5_times.mean()\n",
    "std_dev_hdf5_time = hdf5_times.std()"
   ]
  },
  {
   "cell_type": "code",
   "execution_count": 50,
   "metadata": {},
   "outputs": [
    {
     "name": "stdout",
     "output_type": "stream",
     "text": [
      "0.001910829544067383 \\pm 0.003450182116946118\n"
     ]
    }
   ],
   "source": [
    "print(f\"{mean_hdf5_time} \\pm {std_dev_hdf5_time}\")"
   ]
  },
  {
   "cell_type": "code",
   "execution_count": 61,
   "metadata": {},
   "outputs": [
    {
     "data": {
      "text/plain": [
       "1.3626612663269042"
      ]
     },
     "execution_count": 61,
     "metadata": {},
     "output_type": "execute_result"
    }
   ],
   "source": [
    "mean_hdf5_time + mean_hdf5_array_time"
   ]
  },
  {
   "cell_type": "code",
   "execution_count": 62,
   "metadata": {},
   "outputs": [
    {
     "data": {
      "text/plain": [
       "0.11536497723370183"
      ]
     },
     "execution_count": 62,
     "metadata": {},
     "output_type": "execute_result"
    }
   ],
   "source": [
    "std_dev_hdf5_array_time + std_dev_hdf5_time"
   ]
  },
  {
   "cell_type": "code",
   "execution_count": 41,
   "metadata": {},
   "outputs": [],
   "source": [
    "hdf5_array_load_times = []\n",
    "\n",
    "for i in range(5):\n",
    "    start = time.time()\n",
    "    hdf5_loaded['test'][:]\n",
    "    end = time.time()\n",
    "    hdf5_array_load_times.append(end-start)"
   ]
  },
  {
   "cell_type": "code",
   "execution_count": 52,
   "metadata": {},
   "outputs": [],
   "source": [
    "hdf5_array_load_times = np.array(hdf5_array_load_times)"
   ]
  },
  {
   "cell_type": "code",
   "execution_count": 53,
   "metadata": {},
   "outputs": [],
   "source": [
    "mean_hdf5_array_time = hdf5_array_load_times.mean()\n",
    "std_dev_hdf5_array_time = hdf5_array_load_times.std()"
   ]
  },
  {
   "cell_type": "code",
   "execution_count": 54,
   "metadata": {},
   "outputs": [
    {
     "name": "stdout",
     "output_type": "stream",
     "text": [
      "1.360750436782837 \\pm 0.11191479511675571\n"
     ]
    }
   ],
   "source": [
    "print(f\"{mean_hdf5_array_time} \\pm {std_dev_hdf5_array_time}\")"
   ]
  }
 ],
 "metadata": {
  "kernelspec": {
   "display_name": "Python 3",
   "language": "python",
   "name": "python3"
  },
  "language_info": {
   "codemirror_mode": {
    "name": "ipython",
    "version": 3
   },
   "file_extension": ".py",
   "mimetype": "text/x-python",
   "name": "python",
   "nbconvert_exporter": "python",
   "pygments_lexer": "ipython3",
   "version": "3.7.5"
  }
 },
 "nbformat": 4,
 "nbformat_minor": 2
}
